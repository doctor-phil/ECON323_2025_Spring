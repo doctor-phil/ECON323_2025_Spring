{
 "cells": [
  {
   "cell_type": "markdown",
   "metadata": {},
   "source": [
    "## Optimization example: Linear regression\n",
    "\n",
    "In this example, we will solve a linear regression problem three different ways.\n",
    "\n",
    "Before we start, we need to define the `mean_square_error` objective function, and provide the \"data\" matrix $X$ and the \"outcome\" vector $y$."
   ]
  },
  {
   "cell_type": "code",
   "execution_count": 1,
   "id": "19c6e3b2-52c0-402e-aa52-f5774aa45157",
   "metadata": {},
   "outputs": [],
   "source": [
    "import numpy as np\n",
    "from sklearn import linear_model\n",
    "import statsmodels.api as sm\n",
    "import scipy.optimize as opt\n",
    "\n",
    "\n",
    "def mean_square_error(X,y,beta):\n",
    "    mse = np.linalg.norm((X @ beta) - y) **2\n",
    "    return mse\n",
    "\n",
    "X = np.array([[1, 2], [3, 4], [5, 6]])\n",
    "y = np.array([7,8,9])\n",
    "\n",
    "mse_for_this_problem = lambda beta: mean_square_error(X,y,beta) # define a specific version of the mean_square_error function that uses X and y"
   ]
  },
  {
   "cell_type": "markdown",
   "id": "15fc9183-3587-41a5-80ac-88433f8fb392",
   "metadata": {},
   "source": [
    "First, we will minimize the objective function numerically, using `scipy.optimize.minimize`."
   ]
  },
  {
   "cell_type": "code",
   "execution_count": 2,
   "id": "9173d351-bcc8-462d-9b17-d656389868f4",
   "metadata": {},
   "outputs": [
    {
     "name": "stdout",
     "output_type": "stream",
     "text": [
      "[-5.99999985  6.49999987]\n"
     ]
    }
   ],
   "source": [
    "reg_scipy = opt.minimize(mse_for_this_problem, np.zeros(2)).x #provide an initial guess of beta = [0,0]\n",
    "print(reg_scipy)"
   ]
  },
  {
   "cell_type": "markdown",
   "metadata": {},
   "source": [
    "Next, we will solve the problem analytically, using the closed form solution."
   ]
  },
  {
   "cell_type": "code",
   "execution_count": 3,
   "id": "eb899998-aaa9-42dc-833c-393c296a043f",
   "metadata": {},
   "outputs": [],
   "source": [
    "reg_inv = np.linalg.inv(X.T @ X) @ X.T @ y # this is the analytical solution\n",
    "reg_solve = np.linalg.solve(X.T @ X, X.T @ y) # this is also the analytical solution, but should be faster than using the inverse."
   ]
  },
  {
   "cell_type": "code",
   "execution_count": 4,
   "id": "e1bb64f9-a219-4d40-b1f2-40a4a1378ac0",
   "metadata": {},
   "outputs": [
    {
     "name": "stdout",
     "output_type": "stream",
     "text": [
      "reg_inv = [-6.   6.5]\n",
      "beta_hat3 = [-6.   6.5]\n"
     ]
    }
   ],
   "source": [
    "print(f\"reg_inv = {reg_inv}\") # notice that they give the same answer\n",
    "print(f\"beta_hat3 = {reg_solve}\")  # The time difference won't be noticeable for small matrices like this one, but it will be substantial when you have more data"
   ]
  },
  {
   "cell_type": "markdown",
   "id": "05a45bf9-c271-4a71-b53e-c45eae4f81f2",
   "metadata": {},
   "source": [
    "Finally, we'll solve the same problem using scikit-learn and statsmodels. "
   ]
  },
  {
   "cell_type": "code",
   "execution_count": 5,
   "id": "08bb2caa",
   "metadata": {},
   "outputs": [
    {
     "name": "stdout",
     "output_type": "stream",
     "text": [
      "beta_hat_sklearn = [-6.   6.5]\n",
      "beta_hat_statsmodels = [-6.   6.5]\n"
     ]
    }
   ],
   "source": [
    "# Using sklearn.linear_model\n",
    "reg_sklearn = linear_model.LinearRegression(fit_intercept=False)\n",
    "reg_sklearn.fit(X, y)\n",
    "beta_hat_sklearn = reg_sklearn.coef_\n",
    "print(f\"beta_hat_sklearn = {beta_hat_sklearn}\")\n",
    "\n",
    "# Using statsmodels.api\n",
    "reg_statsmodels = sm.OLS(y, X)\n",
    "sm_result = reg_statsmodels.fit()\n",
    "beta_hat_statsmodels = sm_result.params\n",
    "print(f\"beta_hat_statsmodels = {beta_hat_statsmodels}\")\n"
   ]
  },
  {
   "cell_type": "code",
   "execution_count": 6,
   "id": "4589f53c",
   "metadata": {},
   "outputs": [
    {
     "name": "stdout",
     "output_type": "stream",
     "text": [
      "                            OLS Regression Results                            \n",
      "==============================================================================\n",
      "Dep. Variable:                      y   R-squared:                       1.000\n",
      "Model:                            OLS   Adj. R-squared:                  1.000\n",
      "Method:                 Least Squares   F-statistic:                       inf\n",
      "Date:                Thu, 03 Apr 2025   Prob (F-statistic):               0.00\n",
      "Time:                        13:35:17   Log-Likelihood:                    inf\n",
      "No. Observations:                   3   AIC:                              -inf\n",
      "Df Residuals:                       1   BIC:                              -inf\n",
      "Df Model:                           1                                         \n",
      "Covariance Type:            nonrobust                                         \n",
      "==============================================================================\n",
      "                 coef    std err          t      P>|t|      [0.025      0.975]\n",
      "------------------------------------------------------------------------------\n",
      "x1            -6.0000          0       -inf      0.000      -6.000      -6.000\n",
      "x2             6.5000          0        inf      0.000       6.500       6.500\n",
      "==============================================================================\n",
      "Omnibus:                          nan   Durbin-Watson:                     nan\n",
      "Prob(Omnibus):                    nan   Jarque-Bera (JB):                  nan\n",
      "Skew:                             nan   Prob(JB):                          nan\n",
      "Kurtosis:                         nan   Cond. No.                         18.5\n",
      "==============================================================================\n",
      "\n",
      "Notes:\n",
      "[1] Standard Errors assume that the covariance matrix of the errors is correctly specified.\n"
     ]
    },
    {
     "name": "stderr",
     "output_type": "stream",
     "text": [
      "c:\\Users\\Philip Solimine\\conda\\lib\\site-packages\\statsmodels\\stats\\stattools.py:74: ValueWarning: omni_normtest is not valid with less than 8 observations; 3 samples were given.\n",
      "  warn(\"omni_normtest is not valid with less than 8 observations; %i \"\n",
      "c:\\Users\\Philip Solimine\\conda\\lib\\site-packages\\statsmodels\\regression\\linear_model.py:1841: RuntimeWarning: divide by zero encountered in scalar divide\n",
      "  return self.mse_model/self.mse_resid\n",
      "c:\\Users\\Philip Solimine\\conda\\lib\\site-packages\\statsmodels\\regression\\linear_model.py:940: RuntimeWarning: divide by zero encountered in log\n",
      "  llf = -nobs2*np.log(2*np.pi) - nobs2*np.log(ssr / nobs) - nobs2\n",
      "c:\\Users\\Philip Solimine\\conda\\lib\\site-packages\\statsmodels\\stats\\stattools.py:50: RuntimeWarning: invalid value encountered in scalar divide\n",
      "  dw = np.sum(diff_resids**2, axis=axis) / np.sum(resids**2, axis=axis)\n"
     ]
    }
   ],
   "source": [
    "print(sm_result.summary())"
   ]
  },
  {
   "cell_type": "markdown",
   "metadata": {},
   "source": [
    "At face value, it is good that all methods give the same answer. However, it is good to note that\n",
    "\n",
    "1. The numerical solution is not exact, will depend on the initial guess, and may not converge. However, the numerical solution is very general, and can be used for nonlinear models.\n",
    "3. The analytical solution is exact, but only works for linear regression. Using `np.linalg.solve` will be faster than inverting the matrix.\n",
    "4. The scikit-learn and statsmodels solutions are also exact, and are optimized for linear regression. They may be slower than the analytical solution, but give you a lot of extra important information."
   ]
  },
  {
   "cell_type": "markdown",
   "id": "e1dadc74",
   "metadata": {},
   "source": [
    "## Monte-Carlo simulation example\n",
    "\n",
    "Now that we know how linear regression works, we can use Monte-Carlo methods to understand more about how the estimator is distributed.\n",
    "\n",
    "\"The estimator\" refers to $\\hat{\\beta} = (X'X)^{-1}X'y$, which is the solution to the linear regression problem.\n",
    "\n",
    "To do this, we can generate a large number of random samples of $X$ and $y$ using a set of parameters that we choose in advance, and compute the estimator for each sample."
   ]
  },
  {
   "cell_type": "code",
   "execution_count": 7,
   "id": "cd58caa3",
   "metadata": {},
   "outputs": [
    {
     "name": "stdout",
     "output_type": "stream",
     "text": [
      "first 5 rows of input data X:\n",
      " [[1.         0.30203198]\n",
      " [1.         0.3924286 ]\n",
      " [1.         0.71656392]\n",
      " [1.         0.36599268]\n",
      " [1.         0.78292782]]\n",
      "\n",
      "\n",
      "first 5 rows of dependent variable y:\n",
      " [3.03263927 2.04864636 1.41682967 2.42729703 2.35894247]\n"
     ]
    }
   ],
   "source": [
    "# fix beta to be some parameters that we know in advance\n",
    "\n",
    "beta = np.array([1.0, 2]) # the first is the intercept, the second is the slope\n",
    "\n",
    "# use the fixed beta to generate a sample of 100 data points, and add some gaussian white noise\n",
    "\n",
    "def generate_data(beta, n=100):\n",
    "    X = np.random.rand(n)\n",
    "    X = sm.add_constant(X) # adds an intercept to the model\n",
    "    y = X @ beta + np.random.normal(0, 1, n) # add noise to the data\n",
    "    return X, y\n",
    "\n",
    "X, y = generate_data(beta, n=100)\n",
    "print(\"first 5 rows of input data X:\\n\", X[0:5])\n",
    "print(\"\\n\\nfirst 5 rows of dependent variable y:\\n\", y[0:5])"
   ]
  },
  {
   "cell_type": "code",
   "execution_count": 8,
   "id": "16e92816",
   "metadata": {},
   "outputs": [
    {
     "name": "stdout",
     "output_type": "stream",
     "text": [
      "beta_hat = [1.31253751 1.72754836]\n"
     ]
    }
   ],
   "source": [
    "beta_hat = np.linalg.solve(X.T @ X, X.T @ y) # this is the analytical solution, but should be faster than using the inverse.\n",
    "print(f\"beta_hat = {beta_hat}\") # this is the analytical solution, but should be faster than using the inverse."
   ]
  },
  {
   "cell_type": "code",
   "execution_count": 9,
   "id": "dd949bc3",
   "metadata": {},
   "outputs": [
    {
     "data": {
      "text/html": [
       "<table class=\"simpletable\">\n",
       "<caption>OLS Regression Results</caption>\n",
       "<tr>\n",
       "  <th>Dep. Variable:</th>            <td>y</td>        <th>  R-squared:         </th> <td>   0.205</td>\n",
       "</tr>\n",
       "<tr>\n",
       "  <th>Model:</th>                   <td>OLS</td>       <th>  Adj. R-squared:    </th> <td>   0.197</td>\n",
       "</tr>\n",
       "<tr>\n",
       "  <th>Method:</th>             <td>Least Squares</td>  <th>  F-statistic:       </th> <td>   25.29</td>\n",
       "</tr>\n",
       "<tr>\n",
       "  <th>Date:</th>             <td>Thu, 03 Apr 2025</td> <th>  Prob (F-statistic):</th> <td>2.23e-06</td>\n",
       "</tr>\n",
       "<tr>\n",
       "  <th>Time:</th>                 <td>13:35:17</td>     <th>  Log-Likelihood:    </th> <td> -143.34</td>\n",
       "</tr>\n",
       "<tr>\n",
       "  <th>No. Observations:</th>      <td>   100</td>      <th>  AIC:               </th> <td>   290.7</td>\n",
       "</tr>\n",
       "<tr>\n",
       "  <th>Df Residuals:</th>          <td>    98</td>      <th>  BIC:               </th> <td>   295.9</td>\n",
       "</tr>\n",
       "<tr>\n",
       "  <th>Df Model:</th>              <td>     1</td>      <th>                     </th>     <td> </td>   \n",
       "</tr>\n",
       "<tr>\n",
       "  <th>Covariance Type:</th>      <td>nonrobust</td>    <th>                     </th>     <td> </td>   \n",
       "</tr>\n",
       "</table>\n",
       "<table class=\"simpletable\">\n",
       "<tr>\n",
       "    <td></td>       <th>coef</th>     <th>std err</th>      <th>t</th>      <th>P>|t|</th>  <th>[0.025</th>    <th>0.975]</th>  \n",
       "</tr>\n",
       "<tr>\n",
       "  <th>const</th> <td>    1.3125</td> <td>    0.196</td> <td>    6.697</td> <td> 0.000</td> <td>    0.924</td> <td>    1.701</td>\n",
       "</tr>\n",
       "<tr>\n",
       "  <th>x1</th>    <td>    1.7275</td> <td>    0.344</td> <td>    5.029</td> <td> 0.000</td> <td>    1.046</td> <td>    2.409</td>\n",
       "</tr>\n",
       "</table>\n",
       "<table class=\"simpletable\">\n",
       "<tr>\n",
       "  <th>Omnibus:</th>       <td> 1.385</td> <th>  Durbin-Watson:     </th> <td>   2.060</td>\n",
       "</tr>\n",
       "<tr>\n",
       "  <th>Prob(Omnibus):</th> <td> 0.500</td> <th>  Jarque-Bera (JB):  </th> <td>   0.856</td>\n",
       "</tr>\n",
       "<tr>\n",
       "  <th>Skew:</th>          <td>-0.115</td> <th>  Prob(JB):          </th> <td>   0.652</td>\n",
       "</tr>\n",
       "<tr>\n",
       "  <th>Kurtosis:</th>      <td> 3.391</td> <th>  Cond. No.          </th> <td>    4.20</td>\n",
       "</tr>\n",
       "</table><br/><br/>Notes:<br/>[1] Standard Errors assume that the covariance matrix of the errors is correctly specified."
      ],
      "text/plain": [
       "<class 'statsmodels.iolib.summary.Summary'>\n",
       "\"\"\"\n",
       "                            OLS Regression Results                            \n",
       "==============================================================================\n",
       "Dep. Variable:                      y   R-squared:                       0.205\n",
       "Model:                            OLS   Adj. R-squared:                  0.197\n",
       "Method:                 Least Squares   F-statistic:                     25.29\n",
       "Date:                Thu, 03 Apr 2025   Prob (F-statistic):           2.23e-06\n",
       "Time:                        13:35:17   Log-Likelihood:                -143.34\n",
       "No. Observations:                 100   AIC:                             290.7\n",
       "Df Residuals:                      98   BIC:                             295.9\n",
       "Df Model:                           1                                         \n",
       "Covariance Type:            nonrobust                                         \n",
       "==============================================================================\n",
       "                 coef    std err          t      P>|t|      [0.025      0.975]\n",
       "------------------------------------------------------------------------------\n",
       "const          1.3125      0.196      6.697      0.000       0.924       1.701\n",
       "x1             1.7275      0.344      5.029      0.000       1.046       2.409\n",
       "==============================================================================\n",
       "Omnibus:                        1.385   Durbin-Watson:                   2.060\n",
       "Prob(Omnibus):                  0.500   Jarque-Bera (JB):                0.856\n",
       "Skew:                          -0.115   Prob(JB):                        0.652\n",
       "Kurtosis:                       3.391   Cond. No.                         4.20\n",
       "==============================================================================\n",
       "\n",
       "Notes:\n",
       "[1] Standard Errors assume that the covariance matrix of the errors is correctly specified.\n",
       "\"\"\""
      ]
     },
     "execution_count": 9,
     "metadata": {},
     "output_type": "execute_result"
    }
   ],
   "source": [
    "# let's try with statsmodels.api\n",
    "np.random.seed(3457892345)\n",
    "reg_statsmodels = sm.OLS(y, X)\n",
    "sm_result = reg_statsmodels.fit()\n",
    "\n",
    "sm_result.summary() # this is the summary of the regression results"
   ]
  },
  {
   "cell_type": "code",
   "execution_count": 10,
   "id": "742e7c00",
   "metadata": {},
   "outputs": [
    {
     "data": {
      "text/plain": [
       "Text(0.5, 1.0, 'Distribution of Beta Estimates')"
      ]
     },
     "execution_count": 10,
     "metadata": {},
     "output_type": "execute_result"
    },
    {
     "data": {
      "image/png": "[encoded data removed]",
      "text/plain": [
       "<Figure size 1000x500 with 1 Axes>"
      ]
     },
     "metadata": {},
     "output_type": "display_data"
    }
   ],
   "source": [
    "# instead of estimating the model on only one sample, let's estimate it 1000 times on 1000 different samples, and look at the distribution of the estimates\n",
    "\n",
    "number_of_estimations = 1000 # number of times we will estimate the model\n",
    "number_of_data_points = 100 # number of data points in each sample\n",
    "\n",
    "def estimate_model(X, y):\n",
    "    return np.linalg.solve(X.T @ X, X.T @ y)\n",
    "\n",
    "beta_estimates = np.zeros((number_of_estimations, 2)) # this will hold the estimates of beta for each sample\n",
    "\n",
    "for i in range(number_of_estimations):\n",
    "    X, y = generate_data(beta, n=number_of_data_points)\n",
    "    beta_hat = estimate_model(X, y)\n",
    "    beta_estimates[i, :] = beta_hat # store the estimates in the array\n",
    "\n",
    "# now let's look at the distribution of the estimates\n",
    "import matplotlib.pyplot as plt\n",
    "fig,ax=plt.subplots(1, 1, figsize=(10, 5))\n",
    "plt.hist(beta_estimates[:, 0], bins=30, alpha=0.5, label='Intercept estimate')\n",
    "plt.hist(beta_estimates[:, 1], bins=30, alpha=0.5, label='Slope estimate')\n",
    "\n",
    "plt.axvline(x=beta[0], color='r', linestyle='dashed', linewidth=1, label='True Intercept')\n",
    "plt.axvline(x=beta[1], color='g', linestyle='dashed', linewidth=1, label='True Slope')\n",
    "\n",
    "plt.axvline(x=beta_estimates[:, 0].mean(), color='b', linestyle='dashed', linewidth=1, label='Average intercept estimate')\n",
    "plt.axvline(x=beta_estimates[:, 1].mean(), color='y', linestyle='dashed', linewidth=1, label='Average slope estimate')\n",
    "\n",
    "plt.legend()\n",
    "plt.xlabel('Beta Estimates')\n",
    "plt.ylabel('Number of Estimates')\n",
    "plt.title('Distribution of Beta Estimates')"
   ]
  },
  {
   "cell_type": "code",
   "execution_count": 11,
   "id": "ae05aa6d",
   "metadata": {},
   "outputs": [
    {
     "name": "stdout",
     "output_type": "stream",
     "text": [
      "Mean of Intercept Estimates: 1.0012058382126536\n",
      "Mean of Slope Estimates: 1.999875573995623\n",
      "Standard Deviation of Intercept Estimates: 0.19611879217716896\n",
      "Standard Deviation of Slope Estimates: 0.3460904405715875\n"
     ]
    }
   ],
   "source": [
    "print(\"Mean of Intercept Estimates:\", np.mean(beta_estimates[:, 0]))\n",
    "print(\"Mean of Slope Estimates:\", np.mean(beta_estimates[:, 1]))\n",
    "\n",
    "print(\"Standard Deviation of Intercept Estimates:\", np.std(beta_estimates[:, 0]))\n",
    "print(\"Standard Deviation of Slope Estimates:\", np.std(beta_estimates[:, 1]))"
   ]
  },
  {
   "cell_type": "markdown",
   "id": "09a4d65a",
   "metadata": {},
   "source": [
    "Monte Carlo methods give us a great way to understand the distribution of the estimator, and how it changes with different parameters. Even though the esimates we get for the betas are never *exactly* correct. But what's important is that they are normally distributed around the true value, and we can use this to our advantage. This means that we can use linear regression to estimate the parameters of our model, and we can be confident that the estimates we get are close to the true values *on average*.\n",
    "\n",
    "Note that the standard deviation of the estimators here is [almost] exactly the same as the standard error estimated by statsmodels. This is because the standard error is an estimate of the standard deviation of the estimator, and we are using a large number of samples to get a good estimate of the distribution."
   ]
  }
 ],
 "metadata": {
  "kernelspec": {
   "display_name": "Python 3",
   "language": "python",
   "name": "python3"
  },
  "language_info": {
   "codemirror_mode": {
    "name": "ipython",
    "version": 3
   },
   "file_extension": ".py",
   "mimetype": "text/x-python",
   "name": "python",
   "nbconvert_exporter": "python",
   "pygments_lexer": "ipython3",
   "version": "3.10.9"
  }
 },
 "nbformat": 4,
 "nbformat_minor": 5
}
