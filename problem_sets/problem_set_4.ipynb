{
 "cells": [
  {
   "cell_type": "markdown",
   "id": "c846f484",
   "metadata": {},
   "source": [
    "# Problem Set 4"
   ]
  },
  {
   "cell_type": "code",
   "execution_count": null,
   "id": "1b816f82",
   "metadata": {
    "hide-output": false,
    "tags": []
   },
   "outputs": [],
   "source": [
    "import pandas as pd\n",
    "import numpy as np\n",
    "\n",
    "%matplotlib inline"
   ]
  },
  {
   "cell_type": "markdown",
   "id": "dc836299",
   "metadata": {},
   "source": [
    "# Questions 1-4\n",
    "\n",
    "Run the following code to load a cleaned piece of census data from Statistics Canada."
   ]
  },
  {
   "cell_type": "code",
   "execution_count": null,
   "id": "763be2cc",
   "metadata": {},
   "outputs": [],
   "source": [
    "df = pd.read_csv(\"https://datascience.quantecon.org/assets/data/canada_census.csv\", header=0, index_col=False)\n",
    "df.head()"
   ]
  },
  {
   "cell_type": "markdown",
   "id": "ab53c464",
   "metadata": {},
   "source": [
    "A *census division* is a geographical area, smaller than a Canadian province, that is used to\n",
    "organize information at a slightly more granular level than by province or by city. The census\n",
    "divisions are shown below.\n",
    "\n",
    "![https://datascience.quantecon.org/_static/canada_censusdivisions_map.png](https://datascience.quantecon.org/_static/canada_censusdivisions_map.png)\n",
    "\n",
    "  \n",
    "The data above contains information on 1) the population, 2) percent of population with a college\n",
    "degree, 3) percent of population who own their house/apartment, and 4) the median after-tax income at the\n",
    "*census division* level."
   ]
  },
  {
   "cell_type": "markdown",
   "id": "8752e9b6",
   "metadata": {},
   "source": [
    "## Question 1\n",
    "\n",
    "Run the code below to create a separate data source with province codes and names."
   ]
  },
  {
   "cell_type": "code",
   "execution_count": null,
   "id": "d63ee4c2",
   "metadata": {},
   "outputs": [],
   "source": [
    "df_provincecodes = pd.DataFrame({\n",
    "    \"Pname\" : [ 'Newfoundland and Labrador', 'Prince Edward Island', 'Nova Scotia',\n",
    "                'New Brunswick', 'Quebec', 'Ontario', 'Manitoba', 'Saskatchewan',\n",
    "                'Alberta', 'British Columbia', 'Yukon', 'Northwest Territories','Nunavut'],\n",
    "    \"Code\" : ['NL', 'PE', 'NS', 'NB', 'QC', 'ON', 'MB', 'SK', 'AB', 'BC', 'YT', 'NT', 'NU']\n",
    "            })\n",
    "df_provincecodes"
   ]
  },
  {
   "cell_type": "markdown",
   "id": "8302fc1e",
   "metadata": {},
   "source": [
    "With this,\n",
    "\n",
    "1. Either merge or join these province codes into the census dataframe to provide province codes for each province\n",
    "  name. You need to figure out which “key” matches in the merge, and don’t be afraid to rename columns for convenience.  \n",
    "1. Drop the province names from the resulting dataframe.  \n",
    "1. Rename the column with the province codes to “Province”.  Hint: `.rename(columns = <YOURDICTIONARY>)`  "
   ]
  },
  {
   "cell_type": "code",
   "execution_count": null,
   "id": "d6d20830",
   "metadata": {},
   "outputs": [],
   "source": []
  },
  {
   "cell_type": "markdown",
   "id": "ee5e5af8",
   "metadata": {},
   "source": [
    "## Question 2\n",
    "\n",
    "Which province has the highest population? Which has the lowest?"
   ]
  },
  {
   "cell_type": "code",
   "execution_count": null,
   "id": "7310b8d8",
   "metadata": {},
   "outputs": [],
   "source": []
  },
  {
   "cell_type": "markdown",
   "id": "73333768",
   "metadata": {},
   "source": []
  },
  {
   "cell_type": "markdown",
   "id": "584d0d11",
   "metadata": {},
   "source": [
    "## Question 3\n",
    "\n",
    "Which province has the highest *percent of individuals* with a college education? Which has the\n",
    "lowest?\n",
    "\n",
    "Hint: Remember to weight this calculation by population!"
   ]
  },
  {
   "cell_type": "code",
   "execution_count": null,
   "id": "047b396f",
   "metadata": {},
   "outputs": [],
   "source": []
  },
  {
   "cell_type": "markdown",
   "id": "db4d7805",
   "metadata": {},
   "source": []
  },
  {
   "cell_type": "markdown",
   "id": "5452dd57",
   "metadata": {},
   "source": [
    "## Question 4\n",
    "\n",
    "By province, what is the *total population* of all census divisions in which more than 80 percent of the population own houses?"
   ]
  },
  {
   "cell_type": "code",
   "execution_count": null,
   "id": "3959ae82",
   "metadata": {},
   "outputs": [],
   "source": []
  },
  {
   "cell_type": "markdown",
   "id": "4f7113aa",
   "metadata": {},
   "source": [
    "## Question 5\n",
    "\n",
    "These question are intentionally open-ended. For each one, carefully choose the type of visualization you’ll create. Put some effort into choosing colors, labels, and other formatting. For this, we will use the following dataset of insurance claims."
   ]
  },
  {
   "cell_type": "code",
   "execution_count": null,
   "id": "bd09d826",
   "metadata": {},
   "outputs": [],
   "source": [
    "insure = pd.read_csv(\"https://raw.githubusercontent.com/doctor-phil/ECON323_2025_Fall/main/problem_sets/insurance.csv\")\n",
    "insure.head()"
   ]
  },
  {
   "cell_type": "markdown",
   "id": "83d3a791",
   "metadata": {},
   "source": [
    "### Question 5.1\n",
    "\n",
    "Create a visualization showing the relationship between smoking and medical costs. "
   ]
  },
  {
   "cell_type": "code",
   "execution_count": null,
   "id": "593a20a4",
   "metadata": {},
   "outputs": [],
   "source": [
    "# your code here"
   ]
  },
  {
   "cell_type": "markdown",
   "id": "38ae98f3",
   "metadata": {},
   "source": [
    "### Question 5.2\n",
    "\n",
    "Create a visualization showing the relationship between BMI and medical costs. "
   ]
  },
  {
   "cell_type": "code",
   "execution_count": null,
   "id": "e4769d73",
   "metadata": {},
   "outputs": [],
   "source": [
    "# your code here"
   ]
  },
  {
   "cell_type": "markdown",
   "id": "aa9df78d",
   "metadata": {},
   "source": [
    "### Question 5.3\n",
    "\n",
    "Does the relationship between medical costs and BMI vary with gender? Create a visualization to answer this question."
   ]
  },
  {
   "cell_type": "code",
   "execution_count": null,
   "id": "d1781578",
   "metadata": {},
   "outputs": [],
   "source": [
    "# your code here"
   ]
  },
  {
   "cell_type": "markdown",
   "id": "814b4a81",
   "metadata": {},
   "source": [
    "## Question 6\n",
    "\n",
    "Given the following DataFrame `df`:\n",
    "\n",
    "1. \n",
    "2. Group the DataFrame by column `A` and calculate the sum of column `B` for each group."
   ]
  },
  {
   "cell_type": "code",
   "execution_count": null,
   "id": "5fe19b9e",
   "metadata": {},
   "outputs": [],
   "source": [
    "# run this code to create the dataframe\n",
    "data = {\n",
    "    'A': [1, 2, 3, 4, 5],\n",
    "    'B': [10, 20, 30, 40, 50],\n",
    "    'C': [100, 200, 300, 400, 500]\n",
    "}\n",
    "\n",
    "df = pd.DataFrame(data)"
   ]
  },
  {
   "cell_type": "markdown",
   "id": "020f562c",
   "metadata": {},
   "source": [
    "### Question 6.1\n",
    "\n",
    "Calculate the mean of each row in the dataframe."
   ]
  },
  {
   "cell_type": "code",
   "execution_count": null,
   "id": "d8fddc05",
   "metadata": {},
   "outputs": [],
   "source": [
    "# your code here"
   ]
  },
  {
   "cell_type": "markdown",
   "id": "2098c4b9",
   "metadata": {},
   "source": [
    "### Question 6.2\n",
    "\n",
    "Add a new column `D` to the DataFrame which is the sum of columns `A` and `B`."
   ]
  },
  {
   "cell_type": "code",
   "execution_count": null,
   "id": "09598700",
   "metadata": {},
   "outputs": [],
   "source": [
    "# your code here"
   ]
  },
  {
   "cell_type": "markdown",
   "id": "6dc18abe",
   "metadata": {},
   "source": [
    "### Question 6.3\n",
    "\n",
    "Filter the DataFrame to include only rows where the value in column `C` is greater than 250. Save the new dataframe as `filtered_df`, and return it to the screen.\n",
    "\n",
    "In the markdown cell below, answer the following: Did you do this operation \"in place\"? Why or why not (what makes an operation \"in place\")?"
   ]
  },
  {
   "cell_type": "code",
   "execution_count": null,
   "id": "5d63d75a",
   "metadata": {},
   "outputs": [],
   "source": [
    "# your code here"
   ]
  },
  {
   "cell_type": "markdown",
   "id": "67abf7d0",
   "metadata": {},
   "source": [
    "**Double click on this cell to enter your answer for the markdown portion of the question**"
   ]
  },
  {
   "cell_type": "markdown",
   "id": "66bad52b",
   "metadata": {},
   "source": [
    "### Question 6.4\n",
    "\n",
    "Define a custom aggregation function that calculates the range (difference between the maximum and minimum values) of each column. The function should be called `series_range`, and maps series objects to a single number (the range of the column). Apply this aggregation function to the filtered dataframe `filtered_df` from question 6.3."
   ]
  },
  {
   "cell_type": "code",
   "execution_count": null,
   "id": "673621ed",
   "metadata": {},
   "outputs": [],
   "source": [
    "# your code here"
   ]
  }
 ],
 "metadata": {
  "date": 1633586292.4168322,
  "filename": "problem_set_5.md",
  "kernelspec": {
   "display_name": "base",
   "language": "python",
   "name": "python3"
  },
  "language_info": {
   "codemirror_mode": {
    "name": "ipython",
    "version": 3
   },
   "file_extension": ".py",
   "mimetype": "text/x-python",
   "name": "python",
   "nbconvert_exporter": "python",
   "pygments_lexer": "ipython3",
   "version": "3.12.3"
  },
  "title": "Problem Set 5"
 },
 "nbformat": 4,
 "nbformat_minor": 5
}
