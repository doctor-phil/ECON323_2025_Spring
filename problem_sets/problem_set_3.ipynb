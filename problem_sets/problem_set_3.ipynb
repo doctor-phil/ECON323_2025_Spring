{
 "cells": [
  {
   "cell_type": "markdown",
   "id": "9f3900ea-3cd4-4dcf-8459-ca93f0554a94",
   "metadata": {},
   "source": [
    "# Problem Set 3\n",
    "\n",
    "Related lectures: [Collections](https://datascience.quantecon.org/../python_fundamentals/collections.html), [Control Flow](https://datascience.quantecon.org/../python_fundamentals/control_flow.html), and Objects. Feel free to apply the linear algebra in Numpy arrays if you find it helpful."
   ]
  },
  {
   "cell_type": "markdown",
   "id": "49ce4c15",
   "metadata": {},
   "source": [
    "## Question 1-2\n",
    "\n",
    "Consider a bond that pays a \\$500 coupon once every quarter.\n",
    "\n",
    "It pays in March, June, September, and December.\n",
    "\n",
    "It promises to do so for 10 years after you purchase it, from January 2022 to December 2031.\n",
    "\n",
    "You discount the future at the rate of $r = 0.005$ **per month**."
   ]
  },
  {
   "cell_type": "markdown",
   "id": "09ef9d33",
   "metadata": {},
   "source": [
    "### Question 1\n",
    "\n",
    "How much do you value the asset in January 2022?"
   ]
  },
  {
   "cell_type": "code",
   "execution_count": null,
   "id": "5e221da8",
   "metadata": {
    "hide-output": false
   },
   "outputs": [],
   "source": [
    "# Your code goes here"
   ]
  },
  {
   "cell_type": "markdown",
   "id": "febfec15",
   "metadata": {},
   "source": [
    "### Question 2\n",
    "\n",
    "Consider a different asset that pays a lump sum at its expiration date rather than a quarterly coupon of \\$500 dollars.\n",
    "\n",
    "How much would this asset need to pay on December 2031 for the two assets to be equally valued?"
   ]
  },
  {
   "cell_type": "code",
   "execution_count": null,
   "id": "baa17356",
   "metadata": {
    "hide-output": false
   },
   "outputs": [],
   "source": [
    "# Your code goes here"
   ]
  },
  {
   "cell_type": "markdown",
   "id": "7ec13521",
   "metadata": {},
   "source": [
    "## Question 3\n",
    "\n",
    "Imagine that you have the option to buy a bond, that pays annual payments from the `Payments` column of the table below. You also know that the discount rate *rate* will change annually according to the table. How much would you value the asset in January 2022?\n",
    "\n",
    "Rather than typing the values below directly into the code, try to recreate the arrays of discount rates and payments using a list comprehension.\n",
    "\n",
    "|Year|Discount Rate|Payment|\n",
    "|:------------------------------------------------:|:------------------------------------------------:|:------------------------------------------------:|\n",
    "|2022|0.005|100|\n",
    "|2023|0.0047|300|\n",
    "|2024|0.0044|500|\n",
    "|2025|0.0041|700|\n",
    "|2026|0.0038|900|\n",
    "|2027|0.0035|1100|\n",
    "|2028|0.0032|1300|\n",
    "|2029|0.0029|1500|\n",
    "|2030|0.0026|1700|\n",
    "|2031|0.0023|1900|\n",
    "\n",
    "Find the Net Present Value of this asset by using a for loop. \n",
    "\n",
    "**Hint:** Pay careful attention to the how you construct the discount factors, since each year's discount rate also affects the discounting of all future payments."
   ]
  },
  {
   "cell_type": "code",
   "execution_count": null,
   "id": "7fa84502",
   "metadata": {
    "hide-output": false
   },
   "outputs": [],
   "source": [
    "# Your code goes here"
   ]
  },
  {
   "cell_type": "markdown",
   "id": "0f9d4166",
   "metadata": {},
   "source": [
    "Use this markdown cell to enter your answer."
   ]
  },
  {
   "cell_type": "markdown",
   "id": "fc481fa2",
   "metadata": {},
   "source": [
    "## Questions 4-5\n",
    "\n",
    "Companies often invest in training their employees to raise their\n",
    "productivity. Economists sometimes wonder why companies\n",
    "spend money on training employees when this incentivizes other companies to poach\n",
    "their employees with higher salaries since the employees gain human capital from training.\n",
    "\n",
    "Imagine it costs a company 30,000 dollars to teach their employees Python in January (month t=0), but it also raises their output by 2,500 dollars per month from February (month t=1) on. Assume that the company discounts the future at rate of $ r = 0.01 $ per month."
   ]
  },
  {
   "cell_type": "markdown",
   "id": "f5901620",
   "metadata": {},
   "source": [
    "### Question 4\n",
    "\n",
    "For how many full months does an employee need to stay at a company for that company to make a profit for paying for their employees’ Python training?"
   ]
  },
  {
   "cell_type": "code",
   "execution_count": null,
   "id": "cd65296d",
   "metadata": {
    "hide-output": false
   },
   "outputs": [],
   "source": [
    "# Your code goes here"
   ]
  },
  {
   "cell_type": "markdown",
   "id": "fcfca81f",
   "metadata": {},
   "source": [
    "### Question 5\n",
    "\n",
    "Imagine that 80% of the employees stay for 9 months and 20% of the employees stay\n",
    "for 15 months. Is it worth it for the company to invest in employee Python training?"
   ]
  },
  {
   "cell_type": "code",
   "execution_count": null,
   "id": "2661333c",
   "metadata": {
    "hide-output": false
   },
   "outputs": [],
   "source": [
    "# Your code goes here"
   ]
  },
  {
   "cell_type": "markdown",
   "id": "7106c1ea",
   "metadata": {},
   "source": [
    "## Questions 6-9\n",
    "\n",
    "### Question 6\n",
    "Create a class called `Rectangle` that has two attributes: `length` and `width`. The class should have two methods; a method called `area` that returns the area of the rectangle, and a method called `perimeter` that returns the length of the perimeter of the rectangle.\n"
   ]
  },
  {
   "cell_type": "code",
   "execution_count": null,
   "id": "a6ecad53",
   "metadata": {},
   "outputs": [],
   "source": [
    "# your code goes here"
   ]
  },
  {
   "cell_type": "markdown",
   "id": "b0b9d4c3",
   "metadata": {},
   "source": [
    "Create an instance of the `Rectangle` class with a length of 5 and a width of 3, and then print the area and perimeter of the rectangle."
   ]
  },
  {
   "cell_type": "code",
   "execution_count": null,
   "id": "a95a52d3",
   "metadata": {},
   "outputs": [],
   "source": [
    "# your code goes here"
   ]
  },
  {
   "cell_type": "markdown",
   "id": "fb3d3746",
   "metadata": {},
   "source": [
    "### Question 7\n",
    "\n",
    "Create a function called `shrink_rectangle` that takes a `Rectangle` object as an argument and returns a new `Rectangle` object that has half the length and half the width of the original rectangle.\n",
    "\n",
    "Call the `shrink_rectangle` function on the `Rectangle` object you created in question 6, and print the area of the new rectangle as a formatted string."
   ]
  },
  {
   "cell_type": "code",
   "execution_count": null,
   "id": "0f647e4b",
   "metadata": {},
   "outputs": [],
   "source": [
    "# your code here"
   ]
  },
  {
   "cell_type": "markdown",
   "id": "14d344cc",
   "metadata": {},
   "source": [
    "### Question 8\n",
    "\n",
    "Create a new rectangle object that has a length of 1000 and a width of 1000. Create a `for` loop that runs 15 times, each time calling the `shrink_rectangle` function on the rectangle object from the previous iteration. \n",
    "\n",
    "Each iteration of the loop should also save the width, area, and perimeter of the new rectangle object in a list. At the end of the loop, print the final area of the last rectangle in a formatted string."
   ]
  },
  {
   "cell_type": "code",
   "execution_count": null,
   "id": "72a2171a",
   "metadata": {},
   "outputs": [],
   "source": [
    "# your code here"
   ]
  },
  {
   "cell_type": "markdown",
   "id": "0274b92c",
   "metadata": {},
   "source": [
    "### Question 9\n",
    "\n",
    "Use `matplotlib` to plot side-by-side line plots. In the left plot, show the area of the rectangle on the y-axis and the width of the rectangle on the x-axis. In the right plot, show the perimeter of the rectangle on the y-axis and the width of the rectangle on the x-axis. Ensure that you correctly label the x and y axes of each plot."
   ]
  },
  {
   "cell_type": "code",
   "execution_count": null,
   "id": "9d7c3522",
   "metadata": {},
   "outputs": [],
   "source": [
    "# your code here"
   ]
  }
 ],
 "metadata": {
  "date": 1627429658.1397057,
  "filename": "problem_set_2.md",
  "kernelspec": {
   "display_name": "Python 3",
   "language": "python",
   "name": "python3"
  },
  "language_info": {
   "codemirror_mode": {
    "name": "ipython",
    "version": 3
   },
   "file_extension": ".py",
   "mimetype": "text/x-python",
   "name": "python",
   "nbconvert_exporter": "python",
   "pygments_lexer": "ipython3",
   "version": "3.7.11"
  },
  "title": "Problem Set 2"
 },
 "nbformat": 4,
 "nbformat_minor": 5
}
